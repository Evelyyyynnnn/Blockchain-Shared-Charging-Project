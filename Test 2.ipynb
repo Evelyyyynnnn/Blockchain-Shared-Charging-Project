{
 "cells": [
  {
   "cell_type": "markdown",
   "id": "241186e4",
   "metadata": {},
   "source": [
    "任务一"
   ]
  },
  {
   "cell_type": "code",
   "execution_count": 3,
   "id": "d77d824a",
   "metadata": {},
   "outputs": [
    {
     "name": "stdout",
     "output_type": "stream",
     "text": [
      "Found a hash starting with two zeros:  00d4a9fbb7ce1f7a7df098a8f290acd67229833d588f0ed6b4d71479fdd3d6fc\n",
      "Message:  2019201029杜汶珂161\n"
     ]
    }
   ],
   "source": [
    "import hashlib\n",
    "\n",
    "prefix = '2019201029杜汶珂'\n",
    "nonce = 0\n",
    "while True:\n",
    "    message = prefix + str(nonce)\n",
    "    hash_object = hashlib.sha256(message.encode('utf-8'))\n",
    "    hash_hex = hash_object.hexdigest()\n",
    "    if hash_hex.startswith('00'):\n",
    "        print(\"Found a hash starting with two zeros: \", hash_hex)\n",
    "        print(\"Message: \", message)\n",
    "        break\n",
    "    nonce += 1"
   ]
  },
  {
   "cell_type": "markdown",
   "id": "4b0f6b6c",
   "metadata": {},
   "source": [
    "任务二"
   ]
  },
  {
   "cell_type": "code",
   "execution_count": 1,
   "id": "18fa6718",
   "metadata": {},
   "outputs": [
    {
     "name": "stdout",
     "output_type": "stream",
     "text": [
      "Found a hash starting with five zeros:  000006eddee6e4efa300ce9926bbf975dcc4ed5335dcff89db2de74dc8505d01\n",
      "Message:  b'0.5260906066162193'\n"
     ]
    }
   ],
   "source": [
    "import hashlib\n",
    "import random\n",
    "\n",
    "while True:\n",
    "    message = str(random.random()).encode('utf-8') \n",
    "    hash_object = hashlib.sha256(message)\n",
    "    hash_hex = hash_object.hexdigest()\n",
    "    if hash_hex.startswith('00000'):\n",
    "        print(\"Found a hash starting with five zeros: \", hash_hex)\n",
    "        print(\"Message: \", message)\n",
    "        break"
   ]
  },
  {
   "cell_type": "code",
   "execution_count": null,
   "id": "6f9a18e4",
   "metadata": {},
   "outputs": [],
   "source": []
  }
 ],
 "metadata": {
  "kernelspec": {
   "display_name": "Python 3 (ipykernel)",
   "language": "python",
   "name": "python3"
  },
  "language_info": {
   "codemirror_mode": {
    "name": "ipython",
    "version": 3
   },
   "file_extension": ".py",
   "mimetype": "text/x-python",
   "name": "python",
   "nbconvert_exporter": "python",
   "pygments_lexer": "ipython3",
   "version": "3.9.13"
  }
 },
 "nbformat": 4,
 "nbformat_minor": 5
}
