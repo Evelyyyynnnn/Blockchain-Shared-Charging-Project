{
 "cells": [
  {
   "cell_type": "code",
   "execution_count": 1,
   "id": "9c8a3f1d",
   "metadata": {},
   "outputs": [
    {
     "name": "stdout",
     "output_type": "stream",
     "text": [
      "点乘算法的运行时间为： 0.0006783008575439453 秒\n",
      "最终结果为： 130\n"
     ]
    }
   ],
   "source": [
    "import time\n",
    "\n",
    "start_time = time.time()\n",
    "\n",
    "x = [1,2,3,4,5]\n",
    "y = [6,7,8,9,10]\n",
    "\n",
    "# 点乘\n",
    "dot_product = 0\n",
    "for i in range(len(x)):\n",
    "    dot_product += x[i] * y[i]\n",
    "\n",
    "end_time = time.time()\n",
    "\n",
    "print(\"点乘算法的运行时间为：\", end_time - start_time, \"秒\")\n",
    "print(\"最终结果为：\", dot_product)"
   ]
  },
  {
   "cell_type": "code",
   "execution_count": 2,
   "id": "a9b964b7",
   "metadata": {},
   "outputs": [
    {
     "name": "stdout",
     "output_type": "stream",
     "text": [
      "点加算法的运行时间为： 0.0 秒\n",
      "最终结果为： 55\n"
     ]
    }
   ],
   "source": [
    "import time\n",
    "\n",
    "start_time = time.time()\n",
    "\n",
    "x = [1,2,3,4,5]\n",
    "y = [6,7,8,9,10]\n",
    "\n",
    "# 点加\n",
    "dot_sum = 0\n",
    "for i in range(len(x)):\n",
    "    dot_sum += x[i] + y[i]\n",
    "\n",
    "end_time = time.time()\n",
    "\n",
    "print(\"点加算法的运行时间为：\", end_time - start_time, \"秒\")\n",
    "print(\"最终结果为：\", dot_sum)"
   ]
  },
  {
   "cell_type": "code",
   "execution_count": 3,
   "id": "5a717e2a",
   "metadata": {},
   "outputs": [
    {
     "name": "stdout",
     "output_type": "stream",
     "text": [
      "SHA-256 hash value: e27c8214be8b7cf5bccc7c08247e3cb0c1514a48ee1f63197fe4ef3ef51d7e6f\n",
      "SHA-256 running time: 0.000000 seconds\n",
      "HMAC-SHA256 hash value: 8a7cc2215a2b17f45e955b291c6ba5cf8d3cc46390ac308477f6cad40f656ee4\n",
      "HMAC-SHA256 running time: 0.002001 seconds\n"
     ]
    }
   ],
   "source": [
    "import hashlib\n",
    "import hmac\n",
    "import time\n",
    "\n",
    "# 计算 SHA-256 的运行时间\n",
    "start_time = time.time()\n",
    "sha256_hash = hashlib.sha256(b'Test data').hexdigest()\n",
    "end_time = time.time()\n",
    "print(f'SHA-256 hash value: {sha256_hash}')\n",
    "print(f'SHA-256 running time: {end_time - start_time:.6f} seconds')\n",
    "\n",
    "# 计算 HMAC-SHA256 的运行时间\n",
    "start_time = time.time()\n",
    "hmac_key = b'secret_key'\n",
    "hmac_data = b'Test data'\n",
    "hmac_hash = hmac.new(hmac_key, hmac_data, digestmod=hashlib.sha256).hexdigest()\n",
    "end_time = time.time()\n",
    "print(f'HMAC-SHA256 hash value: {hmac_hash}')\n",
    "print(f'HMAC-SHA256 running time: {end_time - start_time:.6f} seconds')\n"
   ]
  },
  {
   "cell_type": "code",
   "execution_count": 8,
   "id": "5dcd1a1a",
   "metadata": {},
   "outputs": [],
   "source": [
    "import hashlib\n",
    "import json\n",
    "from time import time\n",
    "\n",
    "class Blockchain:\n",
    "    def __init__(self):\n",
    "        self.chain = []\n",
    "        self.current_transactions = []\n",
    "\n",
    "        # Create the genesis block\n",
    "        self.new_block(previous_hash=1, proof=100)\n",
    "\n",
    "    def new_block(self, proof, previous_hash=None):\n",
    "        \"\"\"\n",
    "        Create a new Block in the Blockchain\n",
    "\n",
    "        :param proof: <int> The proof given by the Proof of Work algorithm\n",
    "        :param previous_hash: (Optional) <str> Hash of previous Block\n",
    "        :return: <dict> New Block\n",
    "        \"\"\"\n",
    "\n",
    "        block = {\n",
    "            'index': len(self.chain) + 1,\n",
    "            'timestamp': time(),\n",
    "            'transactions': self.current_transactions,\n",
    "            'proof': proof,\n",
    "            'previous_hash': previous_hash or self.hash(self.chain[-1]),\n",
    "        }\n",
    "\n",
    "        # Reset\n",
    "        "
   ]
  },
  {
   "cell_type": "code",
   "execution_count": 9,
   "id": "c100e653",
   "metadata": {},
   "outputs": [],
   "source": [
    "import time\n",
    "import hashlib\n",
    "import json\n",
    "\n",
    "class Block:\n",
    "    def __init__(self, index, previous_hash, timestamp, data, hash=None):\n",
    "        self.index = index\n",
    "        self.previous_hash = previous_hash\n",
    "        self.timestamp = timestamp\n",
    "        self.data = data\n",
    "        self.hash = hash or self.hash_block()\n",
    "\n",
    "    def hash_block(self):\n",
    "        sha = hashlib.sha256()\n",
    "        sha.update(str(self.index).encode('utf-8') +\n",
    "                   str(self.previous_hash).encode('utf-8') +\n",
    "                   str(self.timestamp).encode('utf-8') +\n",
    "                   str(self.data).encode('utf-8'))\n",
    "        return sha.hexdigest()\n",
    "\n",
    "class Blockchain:\n",
    "    def __init__(self):\n",
    "        self.chain = [Block(0, \"0\", time.time(), \"Genesis Block\")]\n",
    "        self.pending_transactions = []\n",
    "\n",
    "    def add_block(self):\n",
    "        previous_block = self.chain[-1]\n",
    "        index = previous_block.index + 1\n",
    "        timestamp = time.time()\n",
    "        data = json.dumps(self.pending_transactions, sort_keys=True)\n",
    "        previous_hash = previous_block.hash\n",
    "        new_block = Block(index, previous_hash, timestamp, data)\n",
    "        self.chain.append(new_block)\n",
    "        self.pending_transactions = []\n",
    "\n",
    "    def mine_block(self):\n",
    "        self.add_block()\n",
    "\n",
    "    def get_chain(self):\n",
    "        return self.chain\n",
    "\n",
    "    def add_transaction(self, transaction):\n",
    "        self.pending_transactions.append(transaction)\n",
    "\n",
    "    def get_pending_transactions(self):\n",
    "        return self.pending_transactions\n"
   ]
  },
  {
   "cell_type": "code",
   "execution_count": 10,
   "id": "8c6fa5fd",
   "metadata": {},
   "outputs": [
    {
     "name": "stdout",
     "output_type": "stream",
     "text": [
      "Number of Transactions: 1000\n",
      "Number of Threads: 10\n",
      "Total Time: 0.009334087371826172 seconds\n",
      "Throughput: 107134.2017879949 transactions per second\n"
     ]
    }
   ],
   "source": [
    "import time\n",
    "from threading import Thread\n",
    "from queue import Queue\n",
    "import requests\n",
    "\n",
    "def test_throughput(num_transactions, num_threads):\n",
    "    blockchain = Blockchain()\n",
    "    threads = []\n",
    "    for i in range(num_threads):\n",
    "        t = Thread(target=mine_blocks, args=(blockchain, num_transactions//num_threads))\n",
    "        threads.append(t)\n",
    "\n",
    "    start_time = time.time()\n",
    "    for t in threads:\n",
    "        t.start()\n",
    "\n",
    "    for t in threads:\n",
    "        t.join()\n",
    "\n",
    "    end_time = time.time()\n",
    "\n",
    "    total_time = end_time - start_time\n",
    "    throughput = num_transactions / total_time\n",
    "\n",
    "    print(\"Number of Transactions: {}\".format(num_transactions))\n",
    "    print(\"Number of Threads: {}\".format(num_threads))\n",
    "    print(\"Total Time: {} seconds\".format(total_time))\n",
    "    print(\"Throughput: {} transactions per second\".format(throughput))\n",
    "\n",
    "def mine_blocks(blockchain, num_transactions):\n",
    "    for i in range(num_transactions):\n",
    "        transaction = {\"sender\": \"Alice\", \"recipient\": \"Bob\", \"amount\": 1.0}\n",
    "        blockchain.add_transaction(transaction)\n",
    "        blockchain.mine_block()\n",
    "\n",
    "if __name__ == '__main__':\n",
    "    test_throughput(num_transactions=1000, num_threads=10)\n"
   ]
  },
  {
   "cell_type": "raw",
   "id": "f93c8cb5",
   "metadata": {},
   "source": [
    "from Crypto.PublicKey import ECC\n",
    "from Crypto.Hash import SHA256\n",
    "import time\n",
    "\n",
    "# Generate ECDSA key pair\n",
    "key = ECC.generate(curve='secp256k1')\n",
    "public_key = key.public_key().export_key(format='PEM')\n",
    "\n",
    "# Prepare data for blockchain\n",
    "vehicle_id = 'ABC123'\n",
    "timestamp = int(time.time())\n",
    "data = {'public_key': public_key, 'vehicle_id': vehicle_id, 'timestamp': timestamp}\n",
    "\n",
    "# Compute SHA-256 hash of data\n",
    "h = SHA256.new(str(data).encode()).hexdigest()\n",
    "\n",
    "# Store data in blockchain\n",
    "blockchain = [{'data': data, 'hash': h}]\n",
    "print(blockchain)\n"
   ]
  },
  {
   "cell_type": "code",
   "execution_count": null,
   "id": "d54252a2",
   "metadata": {},
   "outputs": [],
   "source": []
  }
 ],
 "metadata": {
  "kernelspec": {
   "display_name": "Python 3 (ipykernel)",
   "language": "python",
   "name": "python3"
  },
  "language_info": {
   "codemirror_mode": {
    "name": "ipython",
    "version": 3
   },
   "file_extension": ".py",
   "mimetype": "text/x-python",
   "name": "python",
   "nbconvert_exporter": "python",
   "pygments_lexer": "ipython3",
   "version": "3.9.13"
  }
 },
 "nbformat": 4,
 "nbformat_minor": 5
}
